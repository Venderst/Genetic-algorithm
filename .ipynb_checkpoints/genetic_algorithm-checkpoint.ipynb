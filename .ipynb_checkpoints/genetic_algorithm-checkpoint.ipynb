{
 "cells": [
  {
   "cell_type": "code",
   "execution_count": 1,
   "metadata": {},
   "outputs": [],
   "source": [
    "from IPython import display\n",
    "from IPython.core.display import HTML\n",
    "\n",
    "from mpl_toolkits import mplot3d\n",
    "\n",
    "import numpy as np\n",
    "import matplotlib.pyplot as plt\n",
    "\n",
    "from tqdm.notebook import tqdm\n",
    "\n",
    "import imageio"
   ]
  },
  {
   "cell_type": "code",
   "execution_count": 2,
   "metadata": {},
   "outputs": [],
   "source": [
    "np.random.seed(972)"
   ]
  },
  {
   "cell_type": "markdown",
   "metadata": {},
   "source": [
    "## Problem\n",
    "\n",
    "Using a genetic algorithm to find one of the local minima of the Himmelblau's function\n",
    "\n",
    "https://en.wikipedia.org/wiki/Himmelblau%27s_function"
   ]
  },
  {
   "cell_type": "markdown",
   "metadata": {},
   "source": [
    "$z = (x ^ 2 + y - 11) ^ 2 + (x + y ^ 2 - 7) ^ 2$"
   ]
  },
  {
   "cell_type": "code",
   "execution_count": 3,
   "metadata": {},
   "outputs": [],
   "source": [
    "def func(x, y):\n",
    "    return (x ** 2 + y - 11) ** 2 + (x + y ** 2 - 7) ** 2"
   ]
  },
  {
   "cell_type": "markdown",
   "metadata": {},
   "source": [
    "Graph of function:"
   ]
  },
  {
   "cell_type": "code",
   "execution_count": 4,
   "metadata": {},
   "outputs": [],
   "source": [
    "x = np.linspace(-5, 5, 30)\n",
    "y = np.linspace(-5, 5, 30)\n",
    "\n",
    "X, Y = np.meshgrid(x, y)\n",
    "Z = func(X, Y)"
   ]
  },
  {
   "cell_type": "code",
   "execution_count": 5,
   "metadata": {},
   "outputs": [
    {
     "data": {
      "text/html": [
       "<img src=\"function_graph.gif\">"
      ],
      "text/plain": [
       "<IPython.core.display.HTML object>"
      ]
     },
     "execution_count": 5,
     "metadata": {},
     "output_type": "execute_result"
    }
   ],
   "source": [
    "fig = plt.figure(figsize=(16, 6))\n",
    "\n",
    "images = []\n",
    "\n",
    "for i in range(0, 360, 1):\n",
    "    plt.clf()\n",
    "\n",
    "    ax = fig.add_subplot(1, 2, 1, projection='3d')\n",
    "    ax.set_xlabel('$x$')\n",
    "    ax.set_ylabel('$y$')\n",
    "    ax.set_zlabel('$z$')\n",
    "    ax.plot_surface(\n",
    "        X, Y, Z, rstride=1, cstride=1, cmap='winter', edgecolor='none'\n",
    "    )\n",
    "    ax.set_title(\"Himmelblau's function\")\n",
    "\n",
    "    ax.view_init(40, i)\n",
    "    plt.draw()\n",
    "    \n",
    "    image = np.frombuffer(fig.canvas.tostring_rgb(), dtype='uint8')\n",
    "    image = image.reshape(fig.canvas.get_width_height()[::-1] + (3,))\n",
    "    images.append(image)\n",
    "    \n",
    "    display.clear_output(wait=True)\n",
    "    display.display(plt.gcf())\n",
    "    \n",
    "imageio.mimsave('function_graph.gif', images, fps=30)\n",
    "\n",
    "plt.close()\n",
    "display.clear_output(wait=True)\n",
    "HTML('<img src=\"function_graph.gif\">')"
   ]
  },
  {
   "cell_type": "markdown",
   "metadata": {},
   "source": [
    "One population consists of 4 individuals"
   ]
  },
  {
   "cell_type": "code",
   "execution_count": 6,
   "metadata": {},
   "outputs": [],
   "source": [
    "POPULATION_SIZE = 4"
   ]
  },
  {
   "cell_type": "code",
   "execution_count": 7,
   "metadata": {},
   "outputs": [
    {
     "data": {
      "text/plain": [
       "array([[ 5.91979742,  4.86662271],\n",
       "       [ 0.52676503, -2.35037198],\n",
       "       [-0.79943434,  3.55565701],\n",
       "       [-5.52252641,  3.50357636]])"
      ]
     },
     "execution_count": 7,
     "metadata": {},
     "output_type": "execute_result"
    }
   ],
   "source": [
    "population = np.random.uniform(-6, 6, [POPULATION_SIZE, 2])\n",
    "population"
   ]
  },
  {
   "cell_type": "markdown",
   "metadata": {},
   "source": [
    "### Fitness function"
   ]
  },
  {
   "cell_type": "code",
   "execution_count": 8,
   "metadata": {},
   "outputs": [],
   "source": [
    "def calc_fitness(population) -> float:\n",
    "    return 1 / (np.sqrt(np.square(0 - func(*population[:].T))) + 1e-200)"
   ]
  },
  {
   "cell_type": "markdown",
   "metadata": {},
   "source": [
    "### Selection\n",
    "The selection of individuals to be produced by the method of roulette— the probability of selecting individuals is higher, the greater the value of the fitness function$ p_{i}={ \\frac{ f_{i}}{ \\sum_{ i=1}^ {N}{ f_{i}}}}$ , where $p_{i}$ is the probability of choosing $i$ individuals, $ f_{i}$ — value of the fitness function for $i$ species, $N$ is the number of individuals in the "
   ]
  },
  {
   "cell_type": "code",
   "execution_count": 9,
   "metadata": {},
   "outputs": [],
   "source": [
    "def select_population(population) -> np.ndarray:\n",
    "    fitness = calc_fitness(population)\n",
    "    probabilities = fitness / fitness.sum()\n",
    "    selected_indexes = np.random.choice(\n",
    "        np.arange(POPULATION_SIZE), 3, p=probabilities, replace=False\n",
    "    )\n",
    "    selected_population = population[selected_indexes]\n",
    "    selected_population_fitness = calc_fitness(selected_population)\n",
    "    sorted_indexes = sorted(\n",
    "        enumerate(selected_population_fitness), \n",
    "        key=lambda x: x[1], reverse=True\n",
    "    )\n",
    "    sorted_indexes = np.array(sorted_indexes).astype(np.uint8)\n",
    "    return selected_population[sorted_indexes[:, 0]]"
   ]
  },
  {
   "cell_type": "markdown",
   "metadata": {},
   "source": [
    "### Crossbreeding\n",
    "\n",
    "$(a_1, a_2) \\rightarrow (b_1, a_2)$  \n",
    "$(b_1, b_2) \\rightarrow (c_1, a_2)$  \n",
    "$(c_1, c_2) \\rightarrow (a_1, b_2)$  \n",
    "$(d_1, d_2) \\rightarrow (a_1, c_2)$"
   ]
  },
  {
   "cell_type": "code",
   "execution_count": 10,
   "metadata": {},
   "outputs": [],
   "source": [
    "def cross_population(selected_population) -> np.ndarray:\n",
    "    result = np.zeros([POPULATION_SIZE, 2])\n",
    "    \n",
    "    result[:2, 1] = selected_population[0, 1]\n",
    "    result[2:, 0] = selected_population[0, 0]\n",
    "    \n",
    "    result[0, 0] = selected_population[1, 0]\n",
    "    result[2, 1] = selected_population[1, 1]\n",
    "    \n",
    "    result[1, 0] = selected_population[2, 0]\n",
    "    result[3, 1] = selected_population[2, 1]\n",
    "    \n",
    "    return result"
   ]
  },
  {
   "cell_type": "markdown",
   "metadata": {},
   "source": [
    "### Mutations\n",
    "\n",
    "To maintain the diversity of the population, it is necessary to carry out a mutation, which consists in adding random values to some elements"
   ]
  },
  {
   "cell_type": "code",
   "execution_count": 11,
   "metadata": {},
   "outputs": [],
   "source": [
    "def apply_mutations(population) -> None:\n",
    "    mutations = np.random.randint(0, 2, population.shape) * \\\n",
    "        np.random.uniform(-0.25, 0.25, population.shape)\n",
    "    population += mutations"
   ]
  },
  {
   "cell_type": "code",
   "execution_count": 12,
   "metadata": {},
   "outputs": [],
   "source": [
    "def train(population, generations_num, verbose=1, \n",
    "          extreme_expected_value=None) -> tuple:\n",
    "    best_population = np.copy(population)\n",
    "    best_fitness = float('-inf')\n",
    "    best_solutions = []\n",
    "    \n",
    "    for generation_index in tqdm(range(generations_num)):\n",
    "        fitness = calc_fitness(population)\n",
    "        selected_population = select_population(population)\n",
    "        best_solution = population[fitness.argmax()]\n",
    "        \n",
    "        if max(fitness) > best_fitness:\n",
    "            best_fitness = max(fitness)\n",
    "            best_population = np.copy(population)\n",
    "            best_solutions.append(best_solution)\n",
    "        \n",
    "        func_value = func(*best_solution)\n",
    "        if extreme_expected_value and func_value == extreme_expected_value:\n",
    "            break\n",
    "\n",
    "        population = cross_population(selected_population)\n",
    "        apply_mutations(population)\n",
    "        \n",
    "        if (generation_index + 1) % verbose == 0:\n",
    "            print(\n",
    "                f'Generation {generation_index + 1}. '\n",
    "                f'Best fitness value = {best_fitness:.4f}, '\n",
    "                f'best function value = {min(func(*best_population.T)):.12f}'\n",
    "            )\n",
    "    return best_fitness, best_population, best_solutions"
   ]
  },
  {
   "cell_type": "code",
   "execution_count": 13,
   "metadata": {},
   "outputs": [
    {
     "data": {
      "application/vnd.jupyter.widget-view+json": {
       "model_id": "8832f53046e541a1b3a8c6a0fa641f02",
       "version_major": 2,
       "version_minor": 0
      },
      "text/plain": [
       "HBox(children=(FloatProgress(value=0.0, max=10000000.0), HTML(value='')))"
      ]
     },
     "metadata": {},
     "output_type": "display_data"
    },
    {
     "name": "stdout",
     "output_type": "stream",
     "text": [
      "Generation 1000000. Best fitness value = 1224991.0207, best function value = 0.000000816333\n",
      "Generation 2000000. Best fitness value = 1334895.5681, best function value = 0.000000749122\n",
      "Generation 3000000. Best fitness value = 2329613.4168, best function value = 0.000000429256\n",
      "Generation 4000000. Best fitness value = 2831066.2471, best function value = 0.000000353224\n",
      "Generation 5000000. Best fitness value = 2831066.2471, best function value = 0.000000353224\n",
      "Generation 6000000. Best fitness value = 4341275.3798, best function value = 0.000000230347\n",
      "Generation 7000000. Best fitness value = 4341275.3798, best function value = 0.000000230347\n",
      "Generation 8000000. Best fitness value = 4341275.3798, best function value = 0.000000230347\n",
      "Generation 9000000. Best fitness value = 7493321.2949, best function value = 0.000000133452\n",
      "Generation 10000000. Best fitness value = 7493321.2949, best function value = 0.000000133452\n",
      "\n"
     ]
    }
   ],
   "source": [
    "best_fitness, best_population, best_solutions = train(\n",
    "    population, generations_num=10000000, verbose=1000000, \n",
    "    extreme_expected_value=0\n",
    ")"
   ]
  },
  {
   "cell_type": "markdown",
   "metadata": {},
   "source": [
    "Visualization of the learning process:"
   ]
  },
  {
   "cell_type": "code",
   "execution_count": 14,
   "metadata": {},
   "outputs": [
    {
     "data": {
      "text/html": [
       "<img src=\"learning.gif\">"
      ],
      "text/plain": [
       "<IPython.core.display.HTML object>"
      ]
     },
     "execution_count": 14,
     "metadata": {},
     "output_type": "execute_result"
    }
   ],
   "source": [
    "fig, ax = plt.subplots(1, 1)\n",
    "plt.title('Learning process')\n",
    "plt.xlabel('x')\n",
    "plt.ylabel('y')\n",
    "cp = ax.contourf(X, Y, Z, 40)\n",
    "fig.colorbar(cp)\n",
    "\n",
    "images = []\n",
    "\n",
    "for i in range(0, len(best_solutions) - 1, 4):\n",
    "    x, y = best_solutions[i][0], best_solutions[i][1]\n",
    "    dx, dy = best_solutions[i+1][0] - x, best_solutions[i+1][1] - y\n",
    "    plt.scatter(*best_solutions[i], c='r', linewidths=0.1)\n",
    "    plt.draw()\n",
    "    \n",
    "    image = np.frombuffer(fig.canvas.tostring_rgb(), dtype='uint8')\n",
    "    image = image.reshape(fig.canvas.get_width_height()[::-1] + (3,))\n",
    "    images.append(image)\n",
    "    \n",
    "    display.clear_output(wait=True)\n",
    "    display.display(plt.gcf())\n",
    "\n",
    "imageio.mimsave('learning.gif', images, fps=3)\n",
    "\n",
    "plt.close()\n",
    "display.clear_output(wait=True)\n",
    "HTML('<img src=\"learning.gif\">')"
   ]
  },
  {
   "cell_type": "markdown",
   "metadata": {},
   "source": [
    "The Himmelblau function has 4 equivalent local minima:\n",
    "\n",
    "* $z(3, 2) = 0$  \n",
    "* $z(-2.8..., 3.1...) = 0$  \n",
    "* $z(-3.779..., -3.28...) = 0$\n",
    "* $z(3.58..., -1.8...) = 0$"
   ]
  },
  {
   "cell_type": "markdown",
   "metadata": {},
   "source": [
    "The minimum value found as a result of the algorithm execution:"
   ]
  },
  {
   "cell_type": "code",
   "execution_count": 15,
   "metadata": {},
   "outputs": [
    {
     "name": "stdout",
     "output_type": "stream",
     "text": [
      "z(3.000059549235091, 2.00000183564038) = 0.000000133452\n"
     ]
    }
   ],
   "source": [
    "print(f'z{tuple(best_solutions[-1])} = {func(*best_solutions[-1]):.12f}')"
   ]
  }
 ],
 "metadata": {
  "kernelspec": {
   "display_name": "Python 3",
   "language": "python",
   "name": "python3"
  },
  "language_info": {
   "codemirror_mode": {
    "name": "ipython",
    "version": 3
   },
   "file_extension": ".py",
   "mimetype": "text/x-python",
   "name": "python",
   "nbconvert_exporter": "python",
   "pygments_lexer": "ipython3",
   "version": "3.7.6"
  }
 },
 "nbformat": 4,
 "nbformat_minor": 4
}
